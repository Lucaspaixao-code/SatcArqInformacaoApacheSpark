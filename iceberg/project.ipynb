{
 "cells": [
  {
   "cell_type": "code",
   "execution_count": 1,
   "id": "a8206a4f-ca95-4b5b-8202-926dc66136ef",
   "metadata": {},
   "outputs": [
    {
     "ename": "ModuleNotFoundError",
     "evalue": "No module named 'pyspark'",
     "output_type": "error",
     "traceback": [
      "\u001b[31m---------------------------------------------------------------------------\u001b[39m",
      "\u001b[31mModuleNotFoundError\u001b[39m                       Traceback (most recent call last)",
      "\u001b[36mCell\u001b[39m\u001b[36m \u001b[39m\u001b[32mIn[1]\u001b[39m\u001b[32m, line 1\u001b[39m\n\u001b[32m----> \u001b[39m\u001b[32m1\u001b[39m \u001b[38;5;28;01mfrom\u001b[39;00m\u001b[38;5;250m \u001b[39m\u001b[34;01mpyspark\u001b[39;00m\u001b[34;01m.\u001b[39;00m\u001b[34;01msql\u001b[39;00m\u001b[38;5;250m \u001b[39m\u001b[38;5;28;01mimport\u001b[39;00m SparkSession\n\u001b[32m      3\u001b[39m \u001b[38;5;66;03m# CRIA UMA SEÇÃO SPARK COM O NOME \"IcebergLocalDevelopment\"\u001b[39;00m\n\u001b[32m      4\u001b[39m spark = SparkSession.builder \\\n\u001b[32m      5\u001b[39m   .appName(\u001b[33m\"\u001b[39m\u001b[33mIcebergLocalDevelopment\u001b[39m\u001b[33m\"\u001b[39m) \\\n\u001b[32m      6\u001b[39m   .config(\u001b[33m'\u001b[39m\u001b[33mspark.jars.packages\u001b[39m\u001b[33m'\u001b[39m, \u001b[33m'\u001b[39m\u001b[33morg.apache.iceberg:iceberg-spark-runtime-3.5_2.12:1.6.1\u001b[39m\u001b[33m'\u001b[39m) \\\n\u001b[32m   (...)\u001b[39m\u001b[32m     10\u001b[39m   .config(\u001b[33m\"\u001b[39m\u001b[33mspark.sql.catalog.local.warehouse\u001b[39m\u001b[33m\"\u001b[39m, \u001b[33m\"\u001b[39m\u001b[33mspark-warehouse/iceberg\u001b[39m\u001b[33m\"\u001b[39m) \\\n\u001b[32m     11\u001b[39m   .getOrCreate()\n",
      "\u001b[31mModuleNotFoundError\u001b[39m: No module named 'pyspark'"
     ]
    }
   ],
   "source": [
    "from pyspark.sql import SparkSession\n",
    "\n",
    "# CRIA UMA SEÇÃO SPARK COM O NOME \"IcebergLocalDevelopment\"\n",
    "spark = SparkSession.builder \\\n",
    "  .appName(\"IcebergLocalDevelopment\") \\\n",
    "  .config('spark.jars.packages', 'org.apache.iceberg:iceberg-spark-runtime-3.5_2.12:1.6.1') \\\n",
    "  .config(\"spark.sql.extensions\", \"org.apache.iceberg.spark.extensions.IcebergSparkSessionExtensions\") \\\n",
    "  .config(\"spark.sql.catalog.local\", \"org.apache.iceberg.spark.SparkCatalog\") \\\n",
    "  .config(\"spark.sql.catalog.local.type\", \"hadoop\") \\\n",
    "  .config(\"spark.sql.catalog.local.warehouse\", \"spark-warehouse/iceberg\") \\\n",
    "  .getOrCreate()\n",
    "\n",
    "# COMANDO PARA APAGAR A TABELA JÁ EXISTENTE E COMEÇAR DO ZERO\n",
    "spark.sql(\"DROP TABLE IF EXISTS local.medico_iceberg\")\n",
    "\n",
    "# CRIA OU RECRIA UMA TABELA CHAMADA medico_iceberg COM 2 COLUNAS: id e nome\n",
    "spark.sql(\n",
    "  \"\"\"\n",
    "  CREATE TABLE local.medico_iceberg (id INT, nome STRING) USING iceberg\n",
    "  \"\"\"\n",
    ")\n",
    "\n",
    "# MOSTRA A TABELA (ainda vazia)\n",
    "spark.sql(\"select * from local.medico_iceberg\").show()\n",
    "\n",
    "# INSERE OS NOVOS REGISTROS NA TABELA\n",
    "spark.sql(\"INSERT INTO local.medico_iceberg VALUES (1, 'William'), (2, 'Iuri'), (3, 'Lucas')\")\n",
    "\n",
    "# MOSTRA A TABELA ATUALIZADA COM OS NOVOS REGISTROS\n",
    "spark.sql(\"select * from local.medico_iceberg\").show()\n",
    "\n",
    "# ADICIONA 3 NOVAS COLUNAS: registro, especialidade e telefone\n",
    "spark.sql(\n",
    "    \"\"\"\n",
    "    alter table local.medico_iceberg add column registro INT, especialidade STRING, telefone STRING\n",
    "    \"\"\"\n",
    ")\n",
    "\n",
    "# MOSTRA A TABELA COMPLETA COM AS NOVAS COLUNAS E CAMPOS AINDA NULOS\n",
    "spark.sql(\n",
    "    \"\"\"\n",
    "    select * from local.medico_iceberg\n",
    "    \"\"\"\n",
    ").show()\n",
    "\n",
    "# ATUALIZA AS NOVAS COLUNAS DO CARRO COM id = 1\n",
    "spark.sql(\n",
    "    \"\"\"\n",
    "    update local.medico_iceberg set registro = 20205178, especialidade = 'Cardiologista', telefone = '48 99632-1234' where id = 1\n",
    "    \"\"\"\n",
    ")\n",
    "\n",
    "# MOSTRA A TABELA APÓS A ATUALIZAÇÃO DO CARRO COM id = 1\n",
    "spark.sql(\n",
    "    \"\"\"\n",
    "    select * from local.medico_iceberg\n",
    "    \"\"\"\n",
    ").show()\n",
    "\n",
    "# ATUALIZA AS NOVAS COLUNAS DOS CARROS COM id = 2 e 3\n",
    "spark.sql('update local.medico_iceberg set registro=20221982, especialidade=\"Ortopedista\", telefone=\"51 98840-9876\" where id = 2')\n",
    "spark.sql('update local.medico_iceberg set registro=20230943, especialidade=\"Clinico Geral\", telefone=\"41 99154-5555\" where id = 3')\n",
    "\n",
    "# MOSTRA A TABELA APÓS A ATUALIZAÇÃO DOS CARROS COM id = 2 e 3\n",
    "spark.sql('select * from local.medico_iceberg').show()\n",
    "\n",
    "# DELETA O CARRO COM id = 3\n",
    "spark.sql('delete from local.medico_iceberg where id = 3')\n",
    "\n",
    "# MOSTRA A TABELA ATUALIZADA APÓS A EXCLUSÃO DO id = 3\n",
    "spark.sql('select * from local.medico_iceberg').show()\n",
    "\n",
    "# MOSTRA TODO O HISTÓRICO DO QUE FOI REALIZADO\n",
    "spark.sql(\"SELECT * FROM local.medico_iceberg.history\").show(truncate=False)\n"
   ]
  },
  {
   "cell_type": "code",
   "execution_count": null,
   "id": "8dfcab5f-209a-4fee-9d98-05fba73873a6",
   "metadata": {},
   "outputs": [],
   "source": []
  }
 ],
 "metadata": {
  "kernelspec": {
   "display_name": "Python 3 (ipykernel)",
   "language": "python",
   "name": "python3"
  },
  "language_info": {
   "codemirror_mode": {
    "name": "ipython",
    "version": 3
   },
   "file_extension": ".py",
   "mimetype": "text/x-python",
   "name": "python",
   "nbconvert_exporter": "python",
   "pygments_lexer": "ipython3",
   "version": "3.12.10"
  }
 },
 "nbformat": 4,
 "nbformat_minor": 5
}
